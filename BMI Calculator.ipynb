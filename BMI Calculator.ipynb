{
 "cells": [
  {
   "cell_type": "code",
   "execution_count": 24,
   "id": "0dcb6ea2",
   "metadata": {},
   "outputs": [
    {
     "name": "stdout",
     "output_type": "stream",
     "text": [
      "Enter your weight in pound: 180\n",
      "Enter your height in inches: 60\n",
      "35.15\n",
      "Overweight\n"
     ]
    }
   ],
   "source": [
    "weight = int (input ('Enter your weight in pound: ')) \n",
    "height = int (input ('Enter your height in inches: '))\n",
    "BMI = (weight*703)/(height*height)\n",
    "print(BMI)\n",
    "if BMI < 16:\n",
    "    print (\"Severe Skinny\")\n",
    "elif BMI < 26:\n",
    "    print (\"Normal\")\n",
    "elif BMI > 26:\n",
    "    print (\"Overweight\")\n",
    "else:\n",
    "    print(\"Enter a valid input\")"
   ]
  },
  {
   "cell_type": "code",
   "execution_count": null,
   "id": "80ca39bc",
   "metadata": {},
   "outputs": [],
   "source": [
    "Severe Thinness\t< 16\n",
    "Moderate Thinness\t16 - 17\n",
    "Mild Thinness\t17 - 18.5\n",
    "Normal\t18.5 - 25\n",
    "Overweight\t25 - 30\n",
    "Obese Class I\t30 - 35\n",
    "Obese Class II\t35 - 40\n",
    "Obese Class III\t> 40\n",
    " "
   ]
  }
 ],
 "metadata": {
  "kernelspec": {
   "display_name": "Python 3 (ipykernel)",
   "language": "python",
   "name": "python3"
  },
  "language_info": {
   "codemirror_mode": {
    "name": "ipython",
    "version": 3
   },
   "file_extension": ".py",
   "mimetype": "text/x-python",
   "name": "python",
   "nbconvert_exporter": "python",
   "pygments_lexer": "ipython3",
   "version": "3.10.10"
  }
 },
 "nbformat": 4,
 "nbformat_minor": 5
}
