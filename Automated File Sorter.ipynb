{
 "cells": [
  {
   "cell_type": "code",
   "execution_count": 52,
   "id": "318225f8",
   "metadata": {},
   "outputs": [],
   "source": [
    "#final_code\n",
    "\n",
    "import os, shutil\n",
    "path = r\"C:/Python/Automated File Sorter/\"\n",
    "file_name = os.listdir(path)\n",
    "folders = ['png file', 'excel file', 'text file']\n",
    "for file in range(0,3):\n",
    "    if not os.path.exists(path + folders[file]):\n",
    "        os.makedirs(path + folders[file])\n",
    "for file in file_name:\n",
    "    if \".png\" in file and not os.path.exists(path + 'png file/' + file):\n",
    "         shutil.move(path + file, path + 'png file/' + file)\n",
    "    elif \".txt\" in file and not os.path.exists(path + 'text file/' + file):\n",
    "            shutil.move(path + file, path + 'text file/' + file)"
   ]
  },
  {
   "cell_type": "markdown",
   "id": "c6194c0f",
   "metadata": {},
   "source": [
    "#To make folders"
   ]
  },
  {
   "cell_type": "code",
   "execution_count": 49,
   "id": "1ecd84e6",
   "metadata": {},
   "outputs": [],
   "source": [
    "folders = ['png file', 'excel file', 'text file']\n",
    "for file in range(0,3):\n",
    "    if not os.path.exists(path + folders[file]):\n",
    "        #print(os.path.exits(path + 'folders(folders)')\n",
    "        os.makedirs(path + folders[file])"
   ]
  },
  {
   "cell_type": "code",
   "execution_count": null,
   "id": "931e359b",
   "metadata": {},
   "outputs": [],
   "source": [
    "# to move files into the respective folders"
   ]
  },
  {
   "cell_type": "code",
   "execution_count": 51,
   "id": "3f9e03c5",
   "metadata": {},
   "outputs": [],
   "source": [
    "for file in file_name:\n",
    "     if \".xlsx\" in file and not os.path.exists(path + 'excel file/' + file):\n",
    "         shutil.move(path + file, path + 'excel file/' + file)\n",
    "    elif \".png\" in file and not os.path.exists(path + 'png file/' + file):\n",
    "         shutil.move(path + file, path + 'png file/' + file)\n",
    "    elif \".txt\" in file and not os.path.exists(path + 'text file/' + file):\n",
    "            shutil.move(path + file, path + 'text file/' + file)"
   ]
  }
 ],
 "metadata": {
  "kernelspec": {
   "display_name": "Python 3 (ipykernel)",
   "language": "python",
   "name": "python3"
  },
  "language_info": {
   "codemirror_mode": {
    "name": "ipython",
    "version": 3
   },
   "file_extension": ".py",
   "mimetype": "text/x-python",
   "name": "python",
   "nbconvert_exporter": "python",
   "pygments_lexer": "ipython3",
   "version": "3.10.10"
  }
 },
 "nbformat": 4,
 "nbformat_minor": 5
}
